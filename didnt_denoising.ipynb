{
 "cells": [
  {
   "cell_type": "markdown",
   "metadata": {},
   "source": [
    "# Dense in Dense Network with Attention Module (DiDNT) for Blind Image Denoising"
   ]
  },
  {
   "cell_type": "markdown",
   "metadata": {},
   "source": [
    "This is my last research during my Master degree. My motivation to do this research is because I'm interested in a paper from NVIDIA researchers, called High-Quality Self-Supervised Deep Image Denoising (https://arxiv.org/pdf/1901.10277.pdf). Thus, this research tries to improve the results from that paper. \n",
    "\n",
    "This research is about blind image denoising, where clean image representations are <b>not</b> required to train the denoising network. \n",
    "\n",
    "Since my paper is not published yet, therefore, I can only show the quantitative results, using standard image quality assessments (PSNR - Peak-Signal-to-Noise Ratio). All the PSNR results are obtained from the inference process (from our models) which definitely runs in this notebook. \n",
    "\n",
    "All of the results in the comparison table are from the same NVIDIA paper (stated above), except our proposed DiDNT results. There are three types of artifical noise in this experiment: Additive White Gaussian Noise (AWGN), Poisson Noise, and Impulse Noise.\n",
    "\n",
    "My proposed DiDNT has <b>better results</b> compared with the previous (NVIDIA) paper, especially when it comes to Gaussian and Impulse noise. "
   ]
  },
  {
   "cell_type": "markdown",
   "metadata": {},
   "source": [
    "I'm using python 3.7"
   ]
  },
  {
   "cell_type": "code",
   "execution_count": 1,
   "metadata": {},
   "outputs": [
    {
     "name": "stdout",
     "output_type": "stream",
     "text": [
      "Python 3.7.3\n"
     ]
    }
   ],
   "source": [
    "!python --version"
   ]
  },
  {
   "cell_type": "markdown",
   "metadata": {},
   "source": [
    "The whole architecture is built using Tensorflow 1.14.0. Trained using one NVIDIA Quadro RTX8000, which would take around 4-6 days. "
   ]
  },
  {
   "cell_type": "code",
   "execution_count": 2,
   "metadata": {},
   "outputs": [
    {
     "name": "stdout",
     "output_type": "stream",
     "text": [
      "absl-py==0.7.1\n",
      "appdirs==1.4.3\n",
      "astor==0.8.0\n",
      "attrs==19.1.0\n",
      "autograd==1.2\n",
      "backcall==0.1.0\n",
      "beautifulsoup4==4.7.1\n",
      "bleach==3.1.0\n",
      "blessings==1.7\n",
      "bokeh==1.2.0\n",
      "bs4==0.0.1\n",
      "cachetools==3.1.1\n",
      "certifi==2019.6.16\n",
      "cffi==1.12.3\n",
      "chardet==3.0.4\n",
      "cloudpickle==1.2.1\n",
      "cycler==0.10.0\n",
      "Cython==0.29.7\n",
      "decorator==4.4.0\n",
      "defusedxml==0.6.0\n",
      "distlib==0.3.0\n",
      "entrypoints==0.3\n",
      "filelock==3.0.12\n",
      "future==0.17.1\n",
      "gast==0.2.2\n",
      "google-api-python-client==1.7.9\n",
      "google-auth==1.6.3\n",
      "google-auth-httplib2==0.0.3\n",
      "google-auth-oauthlib==0.4.1\n",
      "google-pasta==0.1.7\n",
      "gpustat==0.5.0\n",
      "grpcio==1.22.0\n",
      "h5py==2.9.0\n",
      "horovod==0.16.4\n",
      "httplib2==0.13.0\n",
      "idna==2.8\n",
      "imageio==2.8.0\n",
      "importlib-metadata==1.6.0\n",
      "ipykernel==5.1.1\n",
      "ipython==7.6.0\n",
      "ipython-genutils==0.2.0\n",
      "jedi==0.14.0\n",
      "Jinja2==2.10.1\n",
      "json5==0.8.4\n",
      "jsonschema==3.0.1\n",
      "jupyter-client==5.2.4\n",
      "jupyter-core==4.5.0\n",
      "jupyterlab==2.1.2\n",
      "jupyterlab-server==1.1.1\n",
      "Keras==2.2.4\n",
      "Keras-Applications==1.0.8\n",
      "Keras-Preprocessing==1.1.0\n",
      "kiwisolver==1.1.0\n",
      "llvmlite==0.29.0\n",
      "Markdown==3.1.1\n",
      "MarkupSafe==1.1.1\n",
      "matplotlib==3.1.1\n",
      "mistune==0.8.4\n",
      "mlxtend==0.16.0\n",
      "mock==3.0.5\n",
      "nbconvert==5.5.0\n",
      "nbformat==4.4.0\n",
      "notebook==5.7.8\n",
      "numba==0.44.1\n",
      "numexpr==2.6.9\n",
      "numpy==1.16.2\n",
      "nvidia-ml-py3==7.352.0\n",
      "oauth2client==4.1.3\n",
      "oauthlib==3.0.1\n",
      "opt-einsum==3.2.1\n",
      "packaging==19.0\n",
      "pandas==0.24.2\n",
      "pandocfilters==1.4.2\n",
      "parso==0.5.0\n",
      "pexpect==4.7.0\n",
      "pickleshare==0.7.5\n",
      "Pillow==6.1.0\n",
      "prometheus-client==0.7.1\n",
      "prompt-toolkit==2.0.9\n",
      "protobuf==3.8.0\n",
      "psutil==5.6.3\n",
      "ptyprocess==0.6.0\n",
      "pyasn1==0.4.5\n",
      "pyasn1-modules==0.2.5\n",
      "pycparser==2.19\n",
      "pydot-ng==2.0.0\n",
      "Pygments==2.4.2\n",
      "pygsheets==2.0.1\n",
      "pyodbc==4.0.26\n",
      "pyparsing==2.4.0\n",
      "pyrsistent==0.15.2\n",
      "python-dateutil==2.8.0\n",
      "pytz==2019.1\n",
      "PyYAML==5.1.1\n",
      "pyzmq==18.0.2\n",
      "requests==2.22.0\n",
      "requests-oauthlib==1.2.0\n",
      "rsa==4.0\n",
      "scikit-learn==0.20.3\n",
      "scipy==1.4.1\n",
      "seaborn==0.9.0\n",
      "Send2Trash==1.5.0\n",
      "six==1.12.0\n",
      "soupsieve==1.9.2\n",
      "SQLAlchemy==1.3.5\n",
      "tables==3.5.2\n",
      "tensorboard==1.14.0\n",
      "tensorflow==1.14.0\n",
      "tensorflow-estimator==1.14.0\n",
      "tensorflow-gpu==1.14.0\n",
      "termcolor==1.1.0\n",
      "terminado==0.8.2\n",
      "testpath==0.4.2\n",
      "torch==1.5.0\n",
      "torchvision==0.6.0\n",
      "tornado==6.0.3\n",
      "tqdm==4.32.2\n",
      "traitlets==4.3.2\n",
      "uritemplate==3.0.0\n",
      "urllib3==1.25.3\n",
      "virtualenv==20.0.20\n",
      "watermark==1.8.1\n",
      "wcwidth==0.1.7\n",
      "webencodings==0.5.1\n",
      "Werkzeug==0.15.4\n",
      "wrapt==1.11.2\n",
      "yacs==0.1.6\n",
      "zipp==3.1.0\n"
     ]
    }
   ],
   "source": [
    "!pip freeze"
   ]
  },
  {
   "cell_type": "markdown",
   "metadata": {},
   "source": [
    "I will only demonstrate the inference process only, using the previously trained model. "
   ]
  },
  {
   "cell_type": "markdown",
   "metadata": {},
   "source": [
    "## Denoising on Additive White Gaussian Noise"
   ]
  },
  {
   "cell_type": "markdown",
   "metadata": {},
   "source": [
    "### Additive White Gaussian Noise for σ = 25"
   ]
  },
  {
   "cell_type": "code",
   "execution_count": 15,
   "metadata": {},
   "outputs": [
    {
     "name": "stdout",
     "output_type": "stream",
     "text": [
      "Creating the run dir: results/_eval/00080-eval-ilsvrc-kodak-3c-gauss25-iter3m-blindspot-known-res128-EVAL_gauss25-blindspot-sigma_known\n",
      "Copying files to the run dir\n",
      "dnnlib: Running selfsupervised_denoising.train() on localhost...\n",
      "Not loading training data.\n",
      "Loading validation dataset from 'datasets/kodak/*.png'.\n",
      "Loaded 24 images.\n",
      "Validation image padded size = [768, 768].\n",
      "Repeating the validation set 10 times.\n",
      "Evaluating network 'list_trained/network-1940000-gauss25-blindspot-sigma_known.pickle'.\n",
      "Evaluating network with 240 images.\n",
      "       0: time=  1.70, loss=  0.0000, train_psnr=  0.0000, train_psnr_pme=  0.0000, std_net=  0.0000, std_noise=  0.0000, valid_psnr_mu= 30.7433, valid_psnr_pme= 32.5198\n",
      "Evaluation done, exiting.\n",
      "RESULT  32.5198\n",
      "dnnlib: Finished selfsupervised_denoising.train() in 5m 51s.\n"
     ]
    }
   ],
   "source": [
    "!python selfsupervised_denoising.py --dataset-dir=datasets --validation-set=kodak --eval=list_trained/network-1940000-gauss25-blindspot-sigma_known.pickle"
   ]
  },
  {
   "cell_type": "code",
   "execution_count": 16,
   "metadata": {},
   "outputs": [
    {
     "name": "stdout",
     "output_type": "stream",
     "text": [
      "Creating the run dir: results/_eval/00081-eval-ilsvrc-bsd300-3c-gauss25-iter3m-blindspot-known-res128-EVAL_gauss25-blindspot-sigma_known\n",
      "Copying files to the run dir\n",
      "dnnlib: Running selfsupervised_denoising.train() on localhost...\n",
      "Not loading training data.\n",
      "Loading validation dataset from 'datasets/BSR/BSDS500/data/images/test/*.jpg'.\n",
      "Loaded 200 images.\n",
      "Validation image padded size = [512, 512].\n",
      "Repeating the validation set 3 times.\n",
      "Evaluating network 'list_trained/network-1940000-gauss25-blindspot-sigma_known.pickle'.\n",
      "Evaluating network with 600 images.\n",
      "       0: time=  2.24, loss=  0.0000, train_psnr=  0.0000, train_psnr_pme=  0.0000, std_net=  0.0000, std_noise=  0.0000, valid_psnr_mu= 29.2610, valid_psnr_pme= 31.4460\n",
      "Evaluation done, exiting.\n",
      "RESULT  31.4460\n",
      "dnnlib: Finished selfsupervised_denoising.train() in 6m 21s.\n"
     ]
    }
   ],
   "source": [
    "!python selfsupervised_denoising.py --dataset-dir=datasets --validation-set=bsd300 --eval=list_trained/network-1940000-gauss25-blindspot-sigma_known.pickle"
   ]
  },
  {
   "cell_type": "code",
   "execution_count": 17,
   "metadata": {},
   "outputs": [
    {
     "name": "stdout",
     "output_type": "stream",
     "text": [
      "Creating the run dir: results/_eval/00082-eval-ilsvrc-set14-3c-gauss25-iter3m-blindspot-known-res128-EVAL_gauss25-blindspot-sigma_known\n",
      "Copying files to the run dir\n",
      "dnnlib: Running selfsupervised_denoising.train() on localhost...\n",
      "Not loading training data.\n",
      "Loading validation dataset from 'datasets/Set14/*.png'.\n",
      "Loaded 14 images.\n",
      "Validation image padded size = [768, 768].\n",
      "Repeating the validation set 20 times.\n",
      "Evaluating network 'list_trained/network-1940000-gauss25-blindspot-sigma_known.pickle'.\n",
      "Evaluating network with 280 images.\n",
      "       0: time=  0.00, loss=  0.0000, train_psnr=  0.0000, train_psnr_pme=  0.0000, std_net=  0.0000, std_noise=  0.0000, valid_psnr_mu= 29.7157, valid_psnr_pme= 31.3533\n",
      "Evaluation done, exiting.\n",
      "RESULT  31.3533\n",
      "dnnlib: Finished selfsupervised_denoising.train() in 5m 31s.\n"
     ]
    }
   ],
   "source": [
    "!python selfsupervised_denoising.py --dataset-dir=datasets --validation-set=set14 --eval=list_trained/network-1940000-gauss25-blindspot-sigma_known.pickle"
   ]
  },
  {
   "cell_type": "code",
   "execution_count": 26,
   "metadata": {},
   "outputs": [
    {
     "data": {
      "image/png": "[encoded data removed]",
      "text/plain": [
       "<Figure size 432x288 with 1 Axes>"
      ]
     },
     "metadata": {
      "needs_background": "light"
     },
     "output_type": "display_data"
    }
   ],
   "source": [
    "import numpy as np\n",
    "import matplotlib.pyplot as plt\n",
    "\n",
    "data = [[32.46, 31.08, 31.26, 31.60],\n",
    "       [32.45, 31.07, 31.23, 31.58],\n",
    "       [32.45, 31.03, 31.25, 31.57],\n",
    "       [32.52, 31.45, 31.35, 31.77]]\n",
    "\n",
    "columns = ('Kodak', 'BSD300', 'Set14', 'Average')\n",
    "rows = ('N2C', 'N2N', 'Self-supervised Deep Image Denoising', 'Proposed DiDNT')\n",
    "\n",
    "# Add a table at the bottom of the axes\n",
    "the_table = plt.table(cellText=data,\n",
    "                      rowLabels=rows,\n",
    "                      colLabels=columns,\n",
    "                      loc='center')\n",
    "\n",
    "ax = plt.gca()\n",
    "ax.get_xaxis().set_visible(False)\n",
    "ax.get_yaxis().set_visible(False)\n",
    "plt.box(on=None)\n",
    "the_table.scale(1, 1.5)\n",
    "\n",
    "plt.title('PSNR Results for Additive White Gaussian Noise (σ = 25)')\n",
    "plt.show()"
   ]
  },
  {
   "cell_type": "markdown",
   "metadata": {},
   "source": [
    "### Additive White Gaussian Noise for σ ∈ [5,50]"
   ]
  },
  {
   "cell_type": "code",
   "execution_count": 6,
   "metadata": {},
   "outputs": [
    {
     "name": "stdout",
     "output_type": "stream",
     "text": [
      "Creating the run dir: results/_eval/00039-eval-ilsvrc-kodak-3c-gauss5_50-iter2m-blindspot-known-res128-EVAL_gauss5_50-blindspot-sigma_known\n",
      "Copying files to the run dir\n",
      "dnnlib: Running selfsupervised_denoising.train() on localhost...\n",
      "Not loading training data.\n",
      "Loading validation dataset from 'datasets/kodak/*.png'.\n",
      "Loaded 24 images.\n",
      "Validation image padded size = [768, 768].\n",
      "Repeating the validation set 10 times.\n",
      "Evaluating network 'list_trained/network-final-gauss5_50-blindspot-sigma_known.pickle'.\n",
      "Evaluating network with 240 images.\n",
      "       0: time=  5.78, loss=  0.0000, train_psnr=  0.0000, train_psnr_pme=  0.0000, std_net=  0.0000, std_noise=  0.0000, valid_psnr_mu= 30.6047, valid_psnr_pme= 32.5811\n",
      "Evaluation done, exiting.\n",
      "RESULT  32.5811\n",
      "dnnlib: Finished selfsupervised_denoising.train() in 5m 43s.\n"
     ]
    }
   ],
   "source": [
    "!python selfsupervised_denoising.py --dataset-dir=datasets --validation-set=kodak --eval=list_trained/network-final-gauss5_50-blindspot-sigma_known.pickle"
   ]
  },
  {
   "cell_type": "code",
   "execution_count": 7,
   "metadata": {},
   "outputs": [
    {
     "name": "stdout",
     "output_type": "stream",
     "text": [
      "Creating the run dir: results/_eval/00040-eval-ilsvrc-bsd300-3c-gauss5_50-iter2m-blindspot-known-res128-EVAL_gauss5_50-blindspot-sigma_known\n",
      "Copying files to the run dir\n",
      "dnnlib: Running selfsupervised_denoising.train() on localhost...\n",
      "Not loading training data.\n",
      "Loading validation dataset from 'datasets/BSR/BSDS500/data/images/test/*.jpg'.\n",
      "Loaded 200 images.\n",
      "Validation image padded size = [512, 512].\n",
      "Repeating the validation set 3 times.\n",
      "Evaluating network 'list_trained/network-final-gauss5_50-blindspot-sigma_known.pickle'.\n",
      "Evaluating network with 600 images.\n",
      "       0: time=  8.98, loss=  0.0000, train_psnr=  0.0000, train_psnr_pme=  0.0000, std_net=  0.0000, std_noise=  0.0000, valid_psnr_mu= 29.2220, valid_psnr_pme= 31.8438\n",
      "Evaluation done, exiting.\n",
      "RESULT  31.8438\n",
      "dnnlib: Finished selfsupervised_denoising.train() in 7m 59s.\n"
     ]
    }
   ],
   "source": [
    "!python selfsupervised_denoising.py --dataset-dir=datasets --validation-set=bsd300 --eval=list_trained/network-final-gauss5_50-blindspot-sigma_known.pickle"
   ]
  },
  {
   "cell_type": "code",
   "execution_count": 8,
   "metadata": {},
   "outputs": [
    {
     "name": "stdout",
     "output_type": "stream",
     "text": [
      "Creating the run dir: results/_eval/00041-eval-ilsvrc-set14-3c-gauss5_50-iter2m-blindspot-known-res128-EVAL_gauss5_50-blindspot-sigma_known\n",
      "Copying files to the run dir\n",
      "dnnlib: Running selfsupervised_denoising.train() on localhost...\n",
      "Not loading training data.\n",
      "Loading validation dataset from 'datasets/Set14/*.png'.\n",
      "Loaded 14 images.\n",
      "Validation image padded size = [768, 768].\n",
      "Repeating the validation set 20 times.\n",
      "Evaluating network 'list_trained/network-final-gauss5_50-blindspot-sigma_known.pickle'.\n",
      "Evaluating network with 280 images.\n",
      "       0: time=  2.83, loss=  0.0000, train_psnr=  0.0000, train_psnr_pme=  0.0000, std_net=  0.0000, std_noise=  0.0000, valid_psnr_mu= 29.5511, valid_psnr_pme= 31.4066\n",
      "Evaluation done, exiting.\n",
      "RESULT  31.4066\n",
      "dnnlib: Finished selfsupervised_denoising.train() in 5m 48s.\n"
     ]
    }
   ],
   "source": [
    "!python selfsupervised_denoising.py --dataset-dir=datasets --validation-set=set14 --eval=list_trained/network-final-gauss5_50-blindspot-sigma_known.pickle"
   ]
  },
  {
   "cell_type": "code",
   "execution_count": 11,
   "metadata": {},
   "outputs": [
    {
     "data": {
      "image/png": "[encoded data removed]",
      "text/plain": [
       "<Figure size 432x288 with 1 Axes>"
      ]
     },
     "metadata": {
      "needs_background": "light"
     },
     "output_type": "display_data"
    }
   ],
   "source": [
    "import numpy as np\n",
    "import matplotlib.pyplot as plt\n",
    "\n",
    "data = [[32.57, 31.29, 31.27, 31.71],\n",
    "       [32.57, 31.29, 31.26, 31.70],\n",
    "       [32.47, 31.19, 31.21, 31.62],\n",
    "       [32.58, 31.84, 31.41, 31.94]]\n",
    "\n",
    "columns = ('Kodak', 'BSD300', 'Set14', 'Average')\n",
    "rows = ('N2C', 'N2N', 'Self-supervised Deep Image Denoising', 'Proposed DiDNT')\n",
    "\n",
    "# Add a table at the bottom of the axes\n",
    "the_table = plt.table(cellText=data,\n",
    "                      rowLabels=rows,\n",
    "                      colLabels=columns,\n",
    "                      loc='center')\n",
    "\n",
    "ax = plt.gca()\n",
    "ax.get_xaxis().set_visible(False)\n",
    "ax.get_yaxis().set_visible(False)\n",
    "plt.box(on=None)\n",
    "the_table.scale(1, 1.5)\n",
    "\n",
    "plt.title('PSNR Results for Additive White Gaussian Noise (σ ∈ [5,50])')\n",
    "plt.show()"
   ]
  },
  {
   "cell_type": "markdown",
   "metadata": {},
   "source": [
    "It can be seen that for both scenarios of Gaussian noise (fixed number of σ and random number of σ), the proposed DiDNT method yields the <b>best</b> results. "
   ]
  },
  {
   "cell_type": "markdown",
   "metadata": {},
   "source": [
    "## Denoising on Poisson Noise"
   ]
  },
  {
   "cell_type": "markdown",
   "metadata": {},
   "source": [
    "### Poisson Noise for λ = 30"
   ]
  },
  {
   "cell_type": "code",
   "execution_count": 19,
   "metadata": {},
   "outputs": [
    {
     "name": "stdout",
     "output_type": "stream",
     "text": [
      "Creating the run dir: results/_eval/00083-eval-ilsvrc-kodak-3c-poisson30-iter2m-blindspot-known-res128-EVAL_poisson30-blindspot-sigma_known\n",
      "Copying files to the run dir\n",
      "dnnlib: Running selfsupervised_denoising.train() on localhost...\n",
      "Not loading training data.\n",
      "Loading validation dataset from 'datasets/kodak/*.png'.\n",
      "Loaded 24 images.\n",
      "Validation image padded size = [768, 768].\n",
      "Repeating the validation set 10 times.\n",
      "Evaluating network 'list_trained/network-1960000-poisson30-blindspot-sigma_known.pickle'.\n",
      "Evaluating network with 240 images.\n",
      "       0: time=  0.00, loss=  0.0000, train_psnr=  0.0000, train_psnr_pme=  0.0000, std_net=  0.0000, std_noise=  0.0000, valid_psnr_mu= 30.1386, valid_psnr_pme= 31.6923\n",
      "Evaluation done, exiting.\n",
      "RESULT  31.6923\n",
      "dnnlib: Finished selfsupervised_denoising.train() in 5m 50s.\n"
     ]
    }
   ],
   "source": [
    "!python selfsupervised_denoising.py --dataset-dir=datasets --validation-set=kodak --eval=list_trained/network-1960000-poisson30-blindspot-sigma_known.pickle"
   ]
  },
  {
   "cell_type": "code",
   "execution_count": 20,
   "metadata": {},
   "outputs": [
    {
     "name": "stdout",
     "output_type": "stream",
     "text": [
      "Creating the run dir: results/_eval/00084-eval-ilsvrc-bsd300-3c-poisson30-iter2m-blindspot-known-res128-EVAL_poisson30-blindspot-sigma_known\n",
      "Copying files to the run dir\n",
      "dnnlib: Running selfsupervised_denoising.train() on localhost...\n",
      "Not loading training data.\n",
      "Loading validation dataset from 'datasets/BSR/BSDS500/data/images/test/*.jpg'.\n",
      "Loaded 200 images.\n",
      "Validation image padded size = [512, 512].\n",
      "Repeating the validation set 3 times.\n",
      "Evaluating network 'list_trained/network-1960000-poisson30-blindspot-sigma_known.pickle'.\n",
      "Evaluating network with 600 images.\n",
      "       0: time=  0.00, loss=  0.0000, train_psnr=  0.0000, train_psnr_pme=  0.0000, std_net=  0.0000, std_noise=  0.0000, valid_psnr_mu= 28.7412, valid_psnr_pme= 30.6716\n",
      "Evaluation done, exiting.\n",
      "RESULT  30.6716\n",
      "dnnlib: Finished selfsupervised_denoising.train() in 7m 26s.\n"
     ]
    }
   ],
   "source": [
    "!python selfsupervised_denoising.py --dataset-dir=datasets --validation-set=bsd300 --eval=list_trained/network-1960000-poisson30-blindspot-sigma_known.pickle"
   ]
  },
  {
   "cell_type": "code",
   "execution_count": 21,
   "metadata": {},
   "outputs": [
    {
     "name": "stdout",
     "output_type": "stream",
     "text": [
      "Creating the run dir: results/_eval/00085-eval-ilsvrc-set14-3c-poisson30-iter2m-blindspot-known-res128-EVAL_poisson30-blindspot-sigma_known\n",
      "Copying files to the run dir\n",
      "dnnlib: Running selfsupervised_denoising.train() on localhost...\n",
      "Not loading training data.\n",
      "Loading validation dataset from 'datasets/Set14/*.png'.\n",
      "Loaded 14 images.\n",
      "Validation image padded size = [768, 768].\n",
      "Repeating the validation set 20 times.\n",
      "Evaluating network 'list_trained/network-1960000-poisson30-blindspot-sigma_known.pickle'.\n",
      "Evaluating network with 280 images.\n",
      "       0: time=  0.00, loss=  0.0000, train_psnr=  0.0000, train_psnr_pme=  0.0000, std_net=  0.0000, std_noise=  0.0000, valid_psnr_mu= 29.0126, valid_psnr_pme= 30.3948\n",
      "Evaluation done, exiting.\n",
      "RESULT  30.3948\n",
      "dnnlib: Finished selfsupervised_denoising.train() in 5m 48s.\n"
     ]
    }
   ],
   "source": [
    "!python selfsupervised_denoising.py --dataset-dir=datasets --validation-set=set14 --eval=list_trained/network-1960000-poisson30-blindspot-sigma_known.pickle"
   ]
  },
  {
   "cell_type": "code",
   "execution_count": 35,
   "metadata": {},
   "outputs": [
    {
     "data": {
      "image/png": "[encoded data removed]",
      "text/plain": [
       "<Figure size 432x288 with 1 Axes>"
      ]
     },
     "metadata": {
      "needs_background": "light"
     },
     "output_type": "display_data"
    }
   ],
   "source": [
    "import numpy as np\n",
    "import matplotlib.pyplot as plt\n",
    "\n",
    "data = [[31.81, 30.40, 30.45, 30.89],\n",
    "       [31.80, 30.39, 30.44, 30.88],\n",
    "       [31.65, 30.25, 30.29, 30.73],\n",
    "       [31.69, 30.67, 30.39, 30.92]]\n",
    "\n",
    "columns = ('Kodak', 'BSD300', 'Set14', 'Average')\n",
    "rows = ('N2C', 'N2N', 'Self-supervised Deep Image Denoising', 'Proposed DiDNT')\n",
    "\n",
    "# Add a table at the bottom of the axes\n",
    "the_table = plt.table(cellText=data,\n",
    "                      rowLabels=rows,\n",
    "                      colLabels=columns,\n",
    "                      loc='center')\n",
    "\n",
    "ax = plt.gca()\n",
    "ax.get_xaxis().set_visible(False)\n",
    "ax.get_yaxis().set_visible(False)\n",
    "plt.box(on=None)\n",
    "the_table.scale(1, 1.5)\n",
    "\n",
    "plt.title('PSNR Results for Poisson Noise (λ = 30)')\n",
    "plt.show()"
   ]
  },
  {
   "cell_type": "markdown",
   "metadata": {},
   "source": [
    "### Poisson Noise for λ ∈ [5,50]"
   ]
  },
  {
   "cell_type": "code",
   "execution_count": 12,
   "metadata": {},
   "outputs": [
    {
     "name": "stdout",
     "output_type": "stream",
     "text": [
      "Creating the run dir: results/_eval/00045-eval-ilsvrc-kodak-3c-poisson5_50-iter4m-blindspot-known-res128-EVAL_poisson5_50-blindspot-sigma_known\n",
      "Copying files to the run dir\n",
      "dnnlib: Running selfsupervised_denoising.train() on localhost...\n",
      "Not loading training data.\n",
      "Loading validation dataset from 'datasets/kodak/*.png'.\n",
      "Loaded 24 images.\n",
      "Validation image padded size = [768, 768].\n",
      "Repeating the validation set 10 times.\n",
      "Evaluating network 'list_trained/network-0-poisson5_50-blindspot-sigma_known.pickle'.\n",
      "Evaluating network with 240 images.\n",
      "       0: time=  0.00, loss=  0.0000, train_psnr=  0.0000, train_psnr_pme=  0.0000, std_net=  0.0000, std_noise=  0.0000, valid_psnr_mu= 29.5716, valid_psnr_pme= 31.0104\n",
      "Evaluation done, exiting.\n",
      "RESULT  31.0104\n",
      "dnnlib: Finished selfsupervised_denoising.train() in 6m 23s.\n"
     ]
    }
   ],
   "source": [
    "!python selfsupervised_denoising.py --dataset-dir=datasets --validation-set=kodak --eval=list_trained/network-0-poisson5_50-blindspot-sigma_known.pickle"
   ]
  },
  {
   "cell_type": "code",
   "execution_count": 13,
   "metadata": {},
   "outputs": [
    {
     "name": "stdout",
     "output_type": "stream",
     "text": [
      "Creating the run dir: results/_eval/00046-eval-ilsvrc-bsd300-3c-poisson5_50-iter4m-blindspot-known-res128-EVAL_poisson5_50-blindspot-sigma_known\n",
      "Copying files to the run dir\n",
      "dnnlib: Running selfsupervised_denoising.train() on localhost...\n",
      "Not loading training data.\n",
      "Loading validation dataset from 'datasets/BSR/BSDS500/data/images/test/*.jpg'.\n",
      "Loaded 200 images.\n",
      "Validation image padded size = [512, 512].\n",
      "Repeating the validation set 3 times.\n",
      "Evaluating network 'list_trained/network-0-poisson5_50-blindspot-sigma_known.pickle'.\n",
      "Evaluating network with 600 images.\n",
      "       0: time=  0.82, loss=  0.0000, train_psnr=  0.0000, train_psnr_pme=  0.0000, std_net=  0.0000, std_noise=  0.0000, valid_psnr_mu= 28.1459, valid_psnr_pme= 29.8763\n",
      "Evaluation done, exiting.\n",
      "RESULT  29.8763\n",
      "dnnlib: Finished selfsupervised_denoising.train() in 7m 19s.\n"
     ]
    }
   ],
   "source": [
    "!python selfsupervised_denoising.py --dataset-dir=datasets --validation-set=bsd300 --eval=list_trained/network-0-poisson5_50-blindspot-sigma_known.pickle"
   ]
  },
  {
   "cell_type": "code",
   "execution_count": 14,
   "metadata": {},
   "outputs": [
    {
     "name": "stdout",
     "output_type": "stream",
     "text": [
      "Creating the run dir: results/_eval/00047-eval-ilsvrc-set14-3c-poisson5_50-iter4m-blindspot-known-res128-EVAL_poisson5_50-blindspot-sigma_known\n",
      "Copying files to the run dir\n",
      "dnnlib: Running selfsupervised_denoising.train() on localhost...\n",
      "Not loading training data.\n",
      "Loading validation dataset from 'datasets/Set14/*.png'.\n",
      "Loaded 14 images.\n",
      "Validation image padded size = [768, 768].\n",
      "Repeating the validation set 20 times.\n",
      "Evaluating network 'list_trained/network-0-poisson5_50-blindspot-sigma_known.pickle'.\n",
      "Evaluating network with 280 images.\n",
      "       0: time=  0.00, loss=  0.0000, train_psnr=  0.0000, train_psnr_pme=  0.0000, std_net=  0.0000, std_noise=  0.0000, valid_psnr_mu= 28.4098, valid_psnr_pme= 29.6617\n",
      "Evaluation done, exiting.\n",
      "RESULT  29.6617\n",
      "dnnlib: Finished selfsupervised_denoising.train() in 5m 47s.\n"
     ]
    }
   ],
   "source": [
    "!python selfsupervised_denoising.py --dataset-dir=datasets --validation-set=set14 --eval=list_trained/network-0-poisson5_50-blindspot-sigma_known.pickle"
   ]
  },
  {
   "cell_type": "code",
   "execution_count": 10,
   "metadata": {},
   "outputs": [
    {
     "data": {
      "image/png": "[encoded data removed]",
      "text/plain": [
       "<Figure size 432x288 with 1 Axes>"
      ]
     },
     "metadata": {
      "needs_background": "light"
     },
     "output_type": "display_data"
    }
   ],
   "source": [
    "import numpy as np\n",
    "import matplotlib.pyplot as plt\n",
    "\n",
    "data = [[31.33, 29.91, 29.96, 30.40],\n",
    "       [31.32, 29.90, 29.96, 30.39],\n",
    "       [31.16, 29.75, 29.82, 30.24],\n",
    "       [31.01, 29.88, 29.66, 30.20]]\n",
    "\n",
    "columns = ('Kodak', 'BSD300', 'Set14', 'Average')\n",
    "rows = ('N2C', 'N2N', 'Self-supervised Deep Image Denoising', 'Proposed DiDNT')\n",
    "\n",
    "# Add a table at the bottom of the axes\n",
    "the_table = plt.table(cellText=data,\n",
    "                      rowLabels=rows,\n",
    "                      colLabels=columns,\n",
    "                      loc='center')\n",
    "\n",
    "ax = plt.gca()\n",
    "ax.get_xaxis().set_visible(False)\n",
    "ax.get_yaxis().set_visible(False)\n",
    "plt.box(on=None)\n",
    "the_table.scale(1, 1.5)\n",
    "\n",
    "plt.title('PSNR Results for Poisson Noise (λ ∈ [5,50])')\n",
    "plt.show()"
   ]
  },
  {
   "cell_type": "markdown",
   "metadata": {},
   "source": [
    "It can be seen that for scenario of Poisson noise using fixed number of λ, the proposed method yield the best results. As for random number of λ, while my results are not the best, but they are still competitive (compared with other results)."
   ]
  },
  {
   "cell_type": "markdown",
   "metadata": {},
   "source": [
    "## Denoising on Impulse Noise"
   ]
  },
  {
   "cell_type": "code",
   "execution_count": 22,
   "metadata": {},
   "outputs": [
    {
     "name": "stdout",
     "output_type": "stream",
     "text": [
      "Creating the run dir: results/_eval/00086-eval-ilsvrc-kodak-3c-impulse50-iter4m-blindspot-known-res128-EVAL_impulse50-blindspot-sigma_known\n",
      "Copying files to the run dir\n",
      "dnnlib: Running selfsupervised_denoising.train() on localhost...\n",
      "Not loading training data.\n",
      "Loading validation dataset from 'datasets/kodak/*.png'.\n",
      "Loaded 24 images.\n",
      "Validation image padded size = [768, 768].\n",
      "Repeating the validation set 10 times.\n",
      "Evaluating network 'list_trained/network-2320000-impulse50-blindspot-sigma_known.pickle'.\n",
      "Evaluating network with 240 images.\n",
      "       0: time=  0.00, loss=  0.0000, train_psnr=  0.0000, train_psnr_pme=  0.0000, std_net=  0.0000, std_noise=  0.0000, valid_psnr_mu= 31.2646, valid_psnr_pme= 33.6970\n",
      "Evaluation done, exiting.\n",
      "RESULT  33.6970\n",
      "dnnlib: Finished selfsupervised_denoising.train() in 5m 53s.\n"
     ]
    }
   ],
   "source": [
    "!python selfsupervised_denoising.py --dataset-dir=datasets --validation-set=kodak --eval=list_trained/network-2320000-impulse50-blindspot-sigma_known.pickle"
   ]
  },
  {
   "cell_type": "code",
   "execution_count": 23,
   "metadata": {},
   "outputs": [
    {
     "name": "stdout",
     "output_type": "stream",
     "text": [
      "Creating the run dir: results/_eval/00087-eval-ilsvrc-bsd300-3c-impulse50-iter4m-blindspot-known-res128-EVAL_impulse50-blindspot-sigma_known\n",
      "Copying files to the run dir\n",
      "dnnlib: Running selfsupervised_denoising.train() on localhost...\n",
      "Not loading training data.\n",
      "Loading validation dataset from 'datasets/BSR/BSDS500/data/images/test/*.jpg'.\n",
      "Loaded 200 images.\n",
      "Validation image padded size = [512, 512].\n",
      "Repeating the validation set 3 times.\n",
      "Evaluating network 'list_trained/network-2320000-impulse50-blindspot-sigma_known.pickle'.\n",
      "Evaluating network with 600 images.\n",
      "       0: time=  0.00, loss=  0.0000, train_psnr=  0.0000, train_psnr_pme=  0.0000, std_net=  0.0000, std_noise=  0.0000, valid_psnr_mu= 29.4790, valid_psnr_pme= 31.9694\n",
      "Evaluation done, exiting.\n",
      "RESULT  31.9694\n",
      "dnnlib: Finished selfsupervised_denoising.train() in 6m 25s.\n"
     ]
    }
   ],
   "source": [
    "!python selfsupervised_denoising.py --dataset-dir=datasets --validation-set=bsd300 --eval=list_trained/network-2320000-impulse50-blindspot-sigma_known.pickle"
   ]
  },
  {
   "cell_type": "code",
   "execution_count": 24,
   "metadata": {},
   "outputs": [
    {
     "name": "stdout",
     "output_type": "stream",
     "text": [
      "Creating the run dir: results/_eval/00088-eval-ilsvrc-set14-3c-impulse50-iter4m-blindspot-known-res128-EVAL_impulse50-blindspot-sigma_known\n",
      "Copying files to the run dir\n",
      "dnnlib: Running selfsupervised_denoising.train() on localhost...\n",
      "Not loading training data.\n",
      "Loading validation dataset from 'datasets/Set14/*.png'.\n",
      "Loaded 14 images.\n",
      "Validation image padded size = [768, 768].\n",
      "Repeating the validation set 20 times.\n",
      "Evaluating network 'list_trained/network-2320000-impulse50-blindspot-sigma_known.pickle'.\n",
      "Evaluating network with 280 images.\n",
      "       0: time=  0.00, loss=  0.0000, train_psnr=  0.0000, train_psnr_pme=  0.0000, std_net=  0.0000, std_noise=  0.0000, valid_psnr_mu= 29.5466, valid_psnr_pme= 31.7654\n",
      "Evaluation done, exiting.\n",
      "RESULT  31.7654\n",
      "dnnlib: Finished selfsupervised_denoising.train() in 5m 27s.\n"
     ]
    }
   ],
   "source": [
    "!python selfsupervised_denoising.py --dataset-dir=datasets --validation-set=set14 --eval=list_trained/network-2320000-impulse50-blindspot-sigma_known.pickle"
   ]
  },
  {
   "cell_type": "code",
   "execution_count": 29,
   "metadata": {},
   "outputs": [
    {
     "data": {
      "image/png": "[encoded data removed]",
      "text/plain": [
       "<Figure size 432x288 with 1 Axes>"
      ]
     },
     "metadata": {
      "needs_background": "light"
     },
     "output_type": "display_data"
    }
   ],
   "source": [
    "import numpy as np\n",
    "import matplotlib.pyplot as plt\n",
    "\n",
    "data = [[33.32, 31.20, 31.42, 31.98],\n",
    "       [32.88, 30.85, 30.94, 31.56],\n",
    "       [32.98, 30.78, 31.06, 31.61],\n",
    "       [33.70, 31.97, 31.77, 32.48]]\n",
    "\n",
    "columns = ('Kodak', 'BSD300', 'Set14', 'Average')\n",
    "rows = ('N2C', 'N2N', 'Self-supervised Deep Image Denoising', 'Proposed DiDNT')\n",
    "\n",
    "# Add a table at the bottom of the axes\n",
    "the_table = plt.table(cellText=data,\n",
    "                      rowLabels=rows,\n",
    "                      colLabels=columns,\n",
    "                      loc='center')\n",
    "\n",
    "ax = plt.gca()\n",
    "ax.get_xaxis().set_visible(False)\n",
    "ax.get_yaxis().set_visible(False)\n",
    "plt.box(on=None)\n",
    "the_table.scale(1, 1.5)\n",
    "\n",
    "plt.title('PSNR Results for Impulse Noise (α = 0.5)')\n",
    "plt.show()"
   ]
  },
  {
   "cell_type": "markdown",
   "metadata": {},
   "source": [
    "### Impulse Noise for α ∈ [0,1]"
   ]
  },
  {
   "cell_type": "code",
   "execution_count": 31,
   "metadata": {},
   "outputs": [
    {
     "name": "stdout",
     "output_type": "stream",
     "text": [
      "Creating the run dir: results/_eval/00090-eval-ilsvrc-kodak-3c-impulse0_100-iter4m-blindspot-known-res128-EVAL_impulse0_100-blindspot-sigma_known\n",
      "Copying files to the run dir\n",
      "dnnlib: Running selfsupervised_denoising.train() on localhost...\n",
      "Not loading training data.\n",
      "Loading validation dataset from 'datasets/kodak/*.png'.\n",
      "Loaded 24 images.\n",
      "Validation image padded size = [768, 768].\n",
      "Repeating the validation set 10 times.\n",
      "Evaluating network 'list_trained/network-2080000-impulse0_100-blindspot-sigma_known.pickle'.\n",
      "Evaluating network with 240 images.\n",
      "       0: time=  0.00, loss=  0.0000, train_psnr=  0.0000, train_psnr_pme=  0.0000, std_net=  0.0000, std_noise=  0.0000, valid_psnr_mu= 29.0182, valid_psnr_pme= 32.6320\n",
      "Evaluation done, exiting.\n",
      "RESULT  32.6320\n",
      "dnnlib: Finished selfsupervised_denoising.train() in 5m 00s.\n"
     ]
    }
   ],
   "source": [
    "!python selfsupervised_denoising.py --dataset-dir=datasets --validation-set=kodak --eval=list_trained/network-2080000-impulse0_100-blindspot-sigma_known.pickle"
   ]
  },
  {
   "cell_type": "code",
   "execution_count": 32,
   "metadata": {},
   "outputs": [
    {
     "name": "stdout",
     "output_type": "stream",
     "text": [
      "Creating the run dir: results/_eval/00091-eval-ilsvrc-bsd300-3c-impulse0_100-iter4m-blindspot-known-res128-EVAL_impulse0_100-blindspot-sigma_known\n",
      "Copying files to the run dir\n",
      "dnnlib: Running selfsupervised_denoising.train() on localhost...\n",
      "Not loading training data.\n",
      "Loading validation dataset from 'datasets/BSR/BSDS500/data/images/test/*.jpg'.\n",
      "Loaded 200 images.\n",
      "Validation image padded size = [512, 512].\n",
      "Repeating the validation set 3 times.\n",
      "Evaluating network 'list_trained/network-2080000-impulse0_100-blindspot-sigma_known.pickle'.\n",
      "Evaluating network with 600 images.\n",
      "       0: time=  0.00, loss=  0.0000, train_psnr=  0.0000, train_psnr_pme=  0.0000, std_net=  0.0000, std_noise=  0.0000, valid_psnr_mu= 27.6495, valid_psnr_pme= 31.5723\n",
      "Evaluation done, exiting.\n",
      "RESULT  31.5723\n",
      "dnnlib: Finished selfsupervised_denoising.train() in 6m 05s.\n"
     ]
    }
   ],
   "source": [
    "!python selfsupervised_denoising.py --dataset-dir=datasets --validation-set=bsd300 --eval=list_trained/network-2080000-impulse0_100-blindspot-sigma_known.pickle"
   ]
  },
  {
   "cell_type": "code",
   "execution_count": 33,
   "metadata": {},
   "outputs": [
    {
     "name": "stdout",
     "output_type": "stream",
     "text": [
      "Creating the run dir: results/_eval/00092-eval-ilsvrc-set14-3c-impulse0_100-iter4m-blindspot-known-res128-EVAL_impulse0_100-blindspot-sigma_known\n",
      "Copying files to the run dir\n",
      "dnnlib: Running selfsupervised_denoising.train() on localhost...\n",
      "Not loading training data.\n",
      "Loading validation dataset from 'datasets/Set14/*.png'.\n",
      "Loaded 14 images.\n",
      "Validation image padded size = [768, 768].\n",
      "Repeating the validation set 20 times.\n",
      "Evaluating network 'list_trained/network-2080000-impulse0_100-blindspot-sigma_known.pickle'.\n",
      "Evaluating network with 280 images.\n",
      "       0: time= 45.13, loss=  0.0000, train_psnr=  0.0000, train_psnr_pme=  0.0000, std_net=  0.0000, std_noise=  0.0000, valid_psnr_mu= 27.2628, valid_psnr_pme= 30.5220\n",
      "Evaluation done, exiting.\n",
      "RESULT  30.5220\n",
      "dnnlib: Finished selfsupervised_denoising.train() in 6m 11s.\n"
     ]
    }
   ],
   "source": [
    "!python selfsupervised_denoising.py --dataset-dir=datasets --validation-set=set14 --eval=list_trained/network-2080000-impulse0_100-blindspot-sigma_known.pickle"
   ]
  },
  {
   "cell_type": "code",
   "execution_count": 34,
   "metadata": {},
   "outputs": [
    {
     "data": {
      "image/png": "[encoded data removed]",
      "text/plain": [
       "<Figure size 432x288 with 1 Axes>"
      ]
     },
     "metadata": {
      "needs_background": "light"
     },
     "output_type": "display_data"
    }
   ],
   "source": [
    "import numpy as np\n",
    "import matplotlib.pyplot as plt\n",
    "\n",
    "data = [[31.69, 30.27, 29.77, 30.58],\n",
    "       [31.53, 30.11, 29.51, 30.38],\n",
    "       [31.36, 30.00, 29.47, 30.28],\n",
    "       [32.63, 31.57, 30.52, 31.57]]\n",
    "\n",
    "columns = ('Kodak', 'BSD300', 'Set14', 'Average')\n",
    "rows = ('N2C', 'N2N', 'Self-supervised Deep Image Denoising', 'Proposed DiDNT')\n",
    "\n",
    "# Add a table at the bottom of the axes\n",
    "the_table = plt.table(cellText=data,\n",
    "                      rowLabels=rows,\n",
    "                      colLabels=columns,\n",
    "                      loc='center')\n",
    "\n",
    "ax = plt.gca()\n",
    "ax.get_xaxis().set_visible(False)\n",
    "ax.get_yaxis().set_visible(False)\n",
    "plt.box(on=None)\n",
    "the_table.scale(1, 1.5)\n",
    "\n",
    "plt.title('PSNR Results for Impulse Noise (α ∈ [0,1])')\n",
    "plt.show()"
   ]
  },
  {
   "cell_type": "markdown",
   "metadata": {},
   "source": [
    "It can be seen that for both scenarios of Impulse noise (fixed number of α and random number of α), the proposed DiDNT method yields the <b>best</b> results. "
   ]
  },
  {
   "cell_type": "code",
   "execution_count": null,
   "metadata": {},
   "outputs": [],
   "source": []
  }
 ],
 "metadata": {
  "kernelspec": {
   "display_name": "Python 3",
   "language": "python",
   "name": "python3"
  },
  "language_info": {
   "codemirror_mode": {
    "name": "ipython",
    "version": 3
   },
   "file_extension": ".py",
   "mimetype": "text/x-python",
   "name": "python",
   "nbconvert_exporter": "python",
   "pygments_lexer": "ipython3",
   "version": "3.7.3"
  }
 },
 "nbformat": 4,
 "nbformat_minor": 4
}
